{
 "cells": [
  {
   "cell_type": "markdown",
   "id": "5febfe07",
   "metadata": {},
   "source": [
    "### LAB: WATER JUG PROBLEM"
   ]
  },
  {
   "cell_type": "code",
   "execution_count": 2,
   "id": "58add1de",
   "metadata": {
    "scrolled": true
   },
   "outputs": [
    {
     "name": "stdout",
     "output_type": "stream",
     "text": [
      "Size of Jug 1(in litres) : 4\n",
      "Size of Jug 2(in litres) : 3\n",
      "Goal Size(in litres) : 2\n",
      "Minimum number of steps required is 4\n",
      "Solution 1 : [(3, 0), (0, 3), (3, 3), (2, 4)]\n",
      "Solution 2 : [(4, 0), (1, 3), (1, 0), (0, 1), (4, 1), (2, 3)]\n"
     ]
    }
   ],
   "source": [
    "def gcd(a, b):\n",
    "    if b==0:\n",
    "        return a\n",
    "    return gcd(b, a%b)\n",
    "\n",
    "def Pour(toJugCap, fromJugCap, d):\n",
    "    fromJug = fromJugCap\n",
    "    toJug = 0    \n",
    "    step = 1\n",
    "    path.append((fromJug, toJug))\n",
    "    while((fromJug is not d) and (toJug is not d)):\n",
    "        \n",
    "        temp = min(fromJug, toJugCap-toJug)\n",
    "        \n",
    "        toJug = toJug + temp\n",
    "        fromJug = fromJug - temp\n",
    "        \n",
    "        step = step + 1\n",
    "        path.append((fromJug, toJug))\n",
    "        if((fromJug == d) or (toJug == d)):\n",
    "            break\n",
    "            \n",
    "        if fromJug == 0:\n",
    "            fromJug = fromJugCap\n",
    "            step = step + 1\n",
    "            path.append((fromJug, toJug))\n",
    "            \n",
    "        if toJug == toJugCap:\n",
    "            toJug = 0\n",
    "            step = step + 1\n",
    "            path.append((fromJug, toJug))\n",
    "    \n",
    "    return step\n",
    "\n",
    "def minSteps(n, m, d):\n",
    "    if m>n:\n",
    "        temp = m\n",
    "        m = n\n",
    "        n = temp\n",
    "        \n",
    "    if(d%(gcd(n,m)) != 0):\n",
    "        return -1\n",
    "    \n",
    "    sol1 = Pour(n,m,d)\n",
    "    sol2 = Pour(m,n,d)\n",
    "    return((min(sol1, sol2), sol1, sol2))\n",
    "\n",
    "if __name__ == '__main__':\n",
    "    path = []\n",
    "    n = int(input(\"Size of Jug 1(in litres) : \"))\n",
    "    m = int(input(\"Size of Jug 2(in litres) : \"))\n",
    "    d = int(input(\"Goal Size(in litres) : \"))\n",
    "    s, s1, s2 = minSteps(n,m,d)\n",
    "    print('Minimum number of steps required is',s)\n",
    "    print(\"Solution 1 : \", end=\"\")\n",
    "    print(path[:s1])\n",
    "    print(\"Solution 2 : \", end=\"\")\n",
    "    print(path[s1:])"
   ]
  },
  {
   "cell_type": "code",
   "execution_count": 4,
   "id": "3130ec3c",
   "metadata": {},
   "outputs": [
    {
     "name": "stdout",
     "output_type": "stream",
     "text": [
      "Size of Jug 1(in litres) : 4\n",
      "Size of Jug 2(in litres) : 3\n",
      "Goal Size(in litres) : 2\n",
      "Steps: \n",
      "0 0\n",
      "4 0\n",
      "4 3\n",
      "0 3\n",
      "3 0\n",
      "3 3\n",
      "4 2\n",
      "0 2\n"
     ]
    },
    {
     "data": {
      "text/plain": [
       "True"
      ]
     },
     "execution_count": 4,
     "metadata": {},
     "output_type": "execute_result"
    }
   ],
   "source": [
    "from collections import defaultdict\n",
    "\n",
    "jug1 = int(input(\"Size of Jug 1(in litres) : \"))\n",
    "jug2 = int(input(\"Size of Jug 2(in litres) : \"))\n",
    "aim = int(input(\"Goal Size(in litres) : \"))\n",
    "\n",
    "visited = defaultdict(lambda: False)\n",
    "\n",
    "def waterJugSolver(amt1, amt2):\n",
    "    if((amt1 == aim and amt2 == 0) or (amt2 == aim and amt1 == 0)):\n",
    "        print(amt1, amt2)\n",
    "        return True\n",
    "    \n",
    "    if visited[(amt1, amt2)] == False:\n",
    "        print(amt1, amt2)\n",
    "        \n",
    "        visited[(amt1, amt2)] = True\n",
    "    \n",
    "        return (waterJugSolver(0, amt2) or\n",
    "            waterJugSolver(amt1, 0) or\n",
    "            waterJugSolver(jug1, amt2) or\n",
    "            waterJugSolver(amt1, jug2) or\n",
    "            waterJugSolver(amt1 + min(amt2, (jug1-amt1)), amt2 - min(amt2, (jug1 - amt1))) or\n",
    "            waterJugSolver(amt1 - min(amt1, (jug2-amt2)), amt2 + min(amt1, (jug2-amt2))))\n",
    "    else:\n",
    "        return False\n",
    "    \n",
    "print(\"Steps: \")\n",
    "\n",
    "waterJugSolver(0, 0)"
   ]
  },
  {
   "cell_type": "code",
   "execution_count": null,
   "id": "b94d2e42",
   "metadata": {},
   "outputs": [],
   "source": []
  }
 ],
 "metadata": {
  "kernelspec": {
   "display_name": "Python 3 (ipykernel)",
   "language": "python",
   "name": "python3"
  },
  "language_info": {
   "codemirror_mode": {
    "name": "ipython",
    "version": 3
   },
   "file_extension": ".py",
   "mimetype": "text/x-python",
   "name": "python",
   "nbconvert_exporter": "python",
   "pygments_lexer": "ipython3",
   "version": "3.9.6"
  }
 },
 "nbformat": 4,
 "nbformat_minor": 5
}
